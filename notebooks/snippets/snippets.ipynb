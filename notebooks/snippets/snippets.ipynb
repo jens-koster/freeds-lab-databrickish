{
 "cells": [
  {
   "cell_type": "markdown",
   "id": "0",
   "metadata": {},
   "source": [
    "# Snippets book\n",
    "useful or exploratory code that found no use but is yet too good to go..."
   ]
  },
  {
   "cell_type": "markdown",
   "id": "1",
   "metadata": {},
   "source": [
    "# Stream muffler - filter stdout and stderr to take out annoying log items inserting themselves in the printout"
   ]
  },
  {
   "cell_type": "code",
   "execution_count": null,
   "id": "2",
   "metadata": {},
   "outputs": [],
   "source": [
    "import sys\n",
    "from contextlib import contextmanager\n",
    "\n",
    "\n",
    "class StreamFilter:\n",
    "    \"\"\"Wraps a stream and filters out lines containing any of the strings in the provided exclude_list.\"\"\"\n",
    "\n",
    "    def __init__(self, stream, exclude_list):\n",
    "        \"\"\"Stream and a list of substrings to intercepted lines that should be excluded from the stream.\"\"\"\n",
    "        self.stream = stream\n",
    "        self._buffer = \"\"\n",
    "        self.exclude = exclude_list\n",
    "\n",
    "    def write(self, message):\n",
    "        \"\"\"Write.\"\"\"\n",
    "        self._buffer += message\n",
    "        while \"\\n\" in self._buffer:\n",
    "            line, self._buffer = self._buffer.split(\"\\n\", 1)\n",
    "            line += \"\\n\"\n",
    "            if not any(sub in line for sub in self.exclude):\n",
    "                self.stream.write(line)\n",
    "\n",
    "    def flush(self):\n",
    "        \"\"\"Flush.\"\"\"\n",
    "        if self._buffer:\n",
    "            if not any(sub in self._buffer for sub in self.exclude):\n",
    "                self.stream.write(self._buffer)\n",
    "            self._buffer = \"\"\n",
    "        self.stream.flush()\n",
    "\n",
    "\n",
    "@contextmanager\n",
    "def muffler(exclude_list: list):\n",
    "    \"\"\"Context managaer that hijacks stdin and stdout to filter out noise.\n",
    "\n",
    "    Lines containing any of the strings in exclude_list will be intercepted and ignored.\n",
    "    \"\"\"\n",
    "    original_stdout = sys.stdout\n",
    "    original_stderr = sys.stderr\n",
    "    sys.stdout = StreamFilter(stream=original_stdout, exclude_list=exclude_list)\n",
    "    sys.stderr = StreamFilter(stream=original_stderr, exclude_list=exclude_list)\n",
    "    try:\n",
    "        yield\n",
    "    finally:\n",
    "        sys.stdout.flush()\n",
    "        sys.stderr.flush()\n",
    "        sys.stdout = original_stdout\n",
    "        sys.stderr = original_stderr\n",
    "\n",
    "\n",
    "# usage:\n",
    "exclude_list = [\"WARN SparkSession: Using an existing Spark session\"]\n",
    "with muffler(exclude_list):\n",
    "    print(\"1. next line will be a stupid warning from the spark engine\")\n",
    "    print(\"2. WARN SparkSession: Using an existing Spark session blabla bla\")\n",
    "    print(\"3. luckily that was filtered out so we don't see line #2\")"
   ]
  }
 ],
 "metadata": {
  "kernelspec": {
   "display_name": "PIPE DREAMS 3.12.10",
   "language": "python",
   "name": ".venv"
  },
  "language_info": {
   "codemirror_mode": {
    "name": "ipython",
    "version": 3
   },
   "file_extension": ".py",
   "mimetype": "text/x-python",
   "name": "python",
   "nbconvert_exporter": "python",
   "pygments_lexer": "ipython3",
   "version": "3.12.10"
  }
 },
 "nbformat": 4,
 "nbformat_minor": 5
}
