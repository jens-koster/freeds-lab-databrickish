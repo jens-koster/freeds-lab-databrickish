{
 "cells": [
  {
   "cell_type": "markdown",
   "id": "0",
   "metadata": {},
   "source": [
    "# Hello world\n",
    "#### Parameters:\n",
    "\n",
    "p1\n",
    "p2"
   ]
  },
  {
   "cell_type": "code",
   "execution_count": null,
   "id": "1",
   "metadata": {
    "tags": [
     "parameters"
    ]
   },
   "outputs": [],
   "source": [
    "p1 = \"some default value\"\n",
    "p2 = \"another default value\""
   ]
  },
  {
   "cell_type": "code",
   "execution_count": null,
   "id": "2",
   "metadata": {},
   "outputs": [],
   "source": [
    "import random\n",
    "\n",
    "import cowsay\n",
    "\n",
    "random_index = random.randint(0, len(cowsay.char_names) - 1)\n",
    "char_name = cowsay.char_names[random_index]\n",
    "cowsay.char_funcs[char_name](\n",
    "    f\"Hello world,\\nI'm {char_name} and I know a thing or two, you know...\\n like p1={p1} and p2={p2}\"\n",
    ")"
   ]
  }
 ],
 "metadata": {
  "kernelspec": {
   "display_name": ".venv",
   "language": "python",
   "name": "python3"
  },
  "language_info": {
   "codemirror_mode": {
    "name": "ipython",
    "version": 3
   },
   "file_extension": ".py",
   "mimetype": "text/x-python",
   "name": "python",
   "nbconvert_exporter": "python",
   "pygments_lexer": "ipython3",
   "version": "3.12.3"
  }
 },
 "nbformat": 4,
 "nbformat_minor": 5
}
