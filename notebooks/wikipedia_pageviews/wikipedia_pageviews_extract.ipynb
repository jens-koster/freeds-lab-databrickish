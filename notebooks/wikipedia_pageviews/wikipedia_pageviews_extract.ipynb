{
 "cells": [
  {
   "cell_type": "markdown",
   "id": "0",
   "metadata": {},
   "source": [
    "# Extract: Wikipedia pageviews\n",
    "\n",
    "Takes the airflow execution date and scan wikipedia data download for files for last <overlap_hours> hours. All files not already retreieved will be downloaded and unpacked.\n",
    "\n",
    "Files will be put in a folder named: `output_dir/year/month/day/`\n",
    "\n",
    "Files are named `yyyymmdd_hhmm_type.csv`\n",
    "\n",
    "#### Parameters:\n",
    "\n",
    "`execution_date_str` = the airflow exeuction date\n",
    "\n",
    "`output_root` = path to directory where this pipeline will create the yearly folders with sublevels \n",
    "\n",
    "`overlap_hours` = how many hours back in time should we look for files, sometimes it takes a while for the data to be created in the source. "
   ]
  },
  {
   "cell_type": "code",
   "execution_count": null,
   "id": "1",
   "metadata": {
    "tags": [
     "parameters"
    ]
   },
   "outputs": [],
   "source": [
    "import datetime as dt\n",
    "\n",
    "# airflow execution date\n",
    "execution_date = \"2025-06-01T01:00:00+00:00\"\n",
    "execution_id = f\"wikipedia_pageviews_bronze-{dt.datetime.now():%Y%m%d-%H0000}\"\n",
    "\n",
    "output_bucket = \"data\"\n",
    "output_root_prefix = \"wikipedia_pageviews\"\n",
    "overlap_hours = 3\n",
    "force_reupload = False\n",
    "print(f\"Starting notebook execution: {execution_id}\")"
   ]
  },
  {
   "cell_type": "code",
   "execution_count": null,
   "id": "2",
   "metadata": {},
   "outputs": [],
   "source": [
    "import datetime\n",
    "import os\n",
    "from urllib import request\n",
    "\n",
    "import requests  # type: ignore[import-untyped]\n",
    "from freeds.s3 import file_exists, put_file\n",
    "from freeds.utils import parse_execution_date\n",
    "\n",
    "print(f\"execution_date: {execution_date}\")\n",
    "print(f\"output_bucket: {output_bucket}\")\n",
    "print(f\"output_root_prefix: {output_root_prefix}\")\n",
    "print(f\"overlap_hours: {overlap_hours}\")\n",
    "\n",
    "execution_hour = parse_execution_date(execution_date)\n",
    "\n",
    "print(f\"execution_hour: {execution_hour}\")\n",
    "\n",
    "tmp_file_name = \"/tmp/tmp.gz\"\n",
    "for retrieve_hour in (execution_hour - datetime.timedelta(hours=i) for i in range(overlap_hours)):\n",
    "    output_prefix = (\n",
    "        f\"{output_root_prefix}/\"\n",
    "        f\"{retrieve_hour.year}/\"\n",
    "        f\"{retrieve_hour.year}-{retrieve_hour.month:0>2}/\"\n",
    "        f\"{retrieve_hour.day:0>2}\"\n",
    "    )\n",
    "    output_key = (\n",
    "        f\"{output_prefix}/\"\n",
    "        f\"pageviews-{retrieve_hour.year}{retrieve_hour.month:0>2}{retrieve_hour.day:0>2}-{retrieve_hour.hour:0>2}0000\"\n",
    "        \".gz\"\n",
    "    )\n",
    "\n",
    "    if not force_reupload and file_exists(bucket_name=output_bucket, file_name=output_key):\n",
    "        print(f\"file already downloaded: {output_key}\")\n",
    "        continue\n",
    "\n",
    "    url = (\n",
    "        \"https://dumps.wikimedia.org/other/pageviews/\"\n",
    "        f\"{retrieve_hour.year}/{retrieve_hour.year}-{retrieve_hour.month:0>2}/\"\n",
    "        f\"pageviews-{retrieve_hour.year}{retrieve_hour.month:0>2}{retrieve_hour.day:0>2}-{retrieve_hour.hour:0>2}0000\"\n",
    "        \".gz\"\n",
    "    )\n",
    "\n",
    "    response = requests.head(url)\n",
    "    if response.status_code != 200:\n",
    "        print(f\"no file found for: {retrieve_hour} at {url}\")\n",
    "        continue\n",
    "\n",
    "    remote_file_size = response.headers.get(\"Content-Length\")\n",
    "\n",
    "    print(f\"downloading: {url}\")\n",
    "    print(f\"remote_file_size: {remote_file_size}\")\n",
    "    request.urlretrieve(url, tmp_file_name)\n",
    "\n",
    "    downloaded_file_size = os.path.getsize(tmp_file_name)\n",
    "    print(f\"downloaded_file_size: {downloaded_file_size}\")\n",
    "    if remote_file_size and downloaded_file_size != int(remote_file_size):\n",
    "        print(f\"Error: downloaded file size {downloaded_file_size} does not match expected size {remote_file_size}\")\n",
    "\n",
    "    print(f\"uploading wikipedia data in tmp: {tmp_file_name} to bucket:{output_bucket} key:{output_key}\")\n",
    "    put_file(local_path=tmp_file_name, bucket=output_bucket, file_name=output_key)\n",
    "print(f\"Notebook execution complete: {execution_id}\")"
   ]
  }
 ],
 "metadata": {
  "kernelspec": {
   "display_name": "TFDS 3.11.12",
   "language": "python",
   "name": ".venv"
  },
  "language_info": {
   "codemirror_mode": {
    "name": "ipython",
    "version": 3
   },
   "file_extension": ".py",
   "mimetype": "text/x-python",
   "name": "python",
   "nbconvert_exporter": "python",
   "pygments_lexer": "ipython3",
   "version": "3.11.12"
  }
 },
 "nbformat": 4,
 "nbformat_minor": 5
}
